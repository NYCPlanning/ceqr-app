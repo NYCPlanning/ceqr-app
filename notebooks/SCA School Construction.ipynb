{
 "cells": [
  {
   "cell_type": "code",
   "execution_count": 26,
   "metadata": {
    "collapsed": true
   },
   "outputs": [],
   "source": [
    "import pandas as pd\n",
    "import re"
   ]
  },
  {
   "cell_type": "code",
   "execution_count": 3,
   "metadata": {
    "collapsed": false
   },
   "outputs": [],
   "source": [
    "# Data from: https://data.cityofnewyork.us/Housing-Development/Capital-Project-Schedules-and-Budgets/2xh6-psuq\n",
    "# As of: 02/09/2018\n",
    "\n",
    "budgets = pd.read_csv('data/Capital_Project_Schedules_and_Budgets.csv')"
   ]
  },
  {
   "cell_type": "code",
   "execution_count": 12,
   "metadata": {
    "collapsed": false
   },
   "outputs": [
    {
     "data": {
      "text/plain": [
       "array(['SCA CIP', 'SCA CIP RESOA', 'DIIT - RESOA', 'DOE- RESOA',\n",
       "       'SCA Furniture & Equi', 'Trust For Public Lan', 'SCA Capacity',\n",
       "       'DOE - Skilled Trades', 'SCA IEH', 'DOE - Lead Paint', 'PRE-K',\n",
       "       'DIIT - PBX Telephone', 'DIIT - Project Conne',\n",
       "       'Fast Track Projects', 'DCAS/NYPA', 'SCA Lease Site Impro',\n",
       "       'SCA Emergency Lighti', 'RCT CIP', 'SCA Emergency Respon',\n",
       "       'DOE Managed PREK'], dtype=object)"
      ]
     },
     "execution_count": 12,
     "metadata": {},
     "output_type": "execute_result"
    }
   ],
   "source": [
    "budgets['Project Type '].unique()"
   ]
  },
  {
   "cell_type": "code",
   "execution_count": 54,
   "metadata": {
    "collapsed": false
   },
   "outputs": [],
   "source": [
    "budgets = budgets[(budgets['Project Type '] == 'SCA Capacity') & (budgets['Project Status Name'] == 'In-Progress')]"
   ]
  },
  {
   "cell_type": "code",
   "execution_count": 55,
   "metadata": {
    "collapsed": false
   },
   "outputs": [
    {
     "data": {
      "text/html": [
       "<div>\n",
       "<table border=\"1\" class=\"dataframe\">\n",
       "  <thead>\n",
       "    <tr style=\"text-align: right;\">\n",
       "      <th></th>\n",
       "      <th>Project Geographic District</th>\n",
       "      <th>Project Building Identifier</th>\n",
       "      <th>Project School Name</th>\n",
       "      <th>Project Type</th>\n",
       "      <th>Project Description</th>\n",
       "      <th>Project Phase Name</th>\n",
       "      <th>Project Status Name</th>\n",
       "      <th>Project Phase Actual Start Date</th>\n",
       "      <th>Project Phase Planned End Date</th>\n",
       "      <th>Project Phase Actual End Date</th>\n",
       "      <th>Project Budget Amount</th>\n",
       "      <th>Final Estimate of Actual Costs Through End of Phase Amount</th>\n",
       "      <th>Total Phase Actual Spending Amount</th>\n",
       "      <th>DSF Number(s)</th>\n",
       "    </tr>\n",
       "  </thead>\n",
       "  <tbody>\n",
       "    <tr>\n",
       "      <th>4157</th>\n",
       "      <td>24</td>\n",
       "      <td>Q247</td>\n",
       "      <td>P.S. 128 - QUEENS</td>\n",
       "      <td>SCA Capacity</td>\n",
       "      <td>ADDITION</td>\n",
       "      <td>Construction</td>\n",
       "      <td>In-Progress</td>\n",
       "      <td>07/17/2017</td>\n",
       "      <td>11/03/2019</td>\n",
       "      <td>NaN</td>\n",
       "      <td>35703162</td>\n",
       "      <td>$32807349.00</td>\n",
       "      <td>$1614843.00</td>\n",
       "      <td>DSF: 0000821576</td>\n",
       "    </tr>\n",
       "    <tr>\n",
       "      <th>1033</th>\n",
       "      <td>15</td>\n",
       "      <td>K338</td>\n",
       "      <td>P.S./I.S. 338 - BROOKLYN</td>\n",
       "      <td>SCA Capacity</td>\n",
       "      <td>NEW SCHOOL/DEMOLITION</td>\n",
       "      <td>CM,Art,F&amp;E</td>\n",
       "      <td>In-Progress</td>\n",
       "      <td>06/23/2014</td>\n",
       "      <td>03/08/2017</td>\n",
       "      <td>NaN</td>\n",
       "      <td>10121335</td>\n",
       "      <td>$8596661.00</td>\n",
       "      <td>$7673583.00</td>\n",
       "      <td>DSF: 0000425868</td>\n",
       "    </tr>\n",
       "    <tr>\n",
       "      <th>5569</th>\n",
       "      <td>27</td>\n",
       "      <td>Q066</td>\n",
       "      <td>P.S. 66 - QUEENS</td>\n",
       "      <td>SCA Capacity</td>\n",
       "      <td>ADDITION</td>\n",
       "      <td>Construction</td>\n",
       "      <td>In-Progress</td>\n",
       "      <td>06/21/2017</td>\n",
       "      <td>08/20/2020</td>\n",
       "      <td>NaN</td>\n",
       "      <td>31121781</td>\n",
       "      <td>$28209948.00</td>\n",
       "      <td>$1357797.00</td>\n",
       "      <td>DSF: 0000801039</td>\n",
       "    </tr>\n",
       "    <tr>\n",
       "      <th>3769</th>\n",
       "      <td>30</td>\n",
       "      <td>Q292</td>\n",
       "      <td>P.S. 92 - QUEENS</td>\n",
       "      <td>SCA Capacity</td>\n",
       "      <td>ADDITION/WINDOWS</td>\n",
       "      <td>Construction</td>\n",
       "      <td>In-Progress</td>\n",
       "      <td>08/13/2014</td>\n",
       "      <td>05/08/2017</td>\n",
       "      <td>NaN</td>\n",
       "      <td>52303500</td>\n",
       "      <td>$49688287.00</td>\n",
       "      <td>$47172573.00</td>\n",
       "      <td>DSF: 0000745712, 0000752430</td>\n",
       "    </tr>\n",
       "    <tr>\n",
       "      <th>6480</th>\n",
       "      <td>28</td>\n",
       "      <td>Q144</td>\n",
       "      <td>P.S. 144 - QUEENS</td>\n",
       "      <td>SCA Capacity</td>\n",
       "      <td>ADDITION</td>\n",
       "      <td>Construction</td>\n",
       "      <td>In-Progress</td>\n",
       "      <td>07/13/2017</td>\n",
       "      <td>07/01/2020</td>\n",
       "      <td>NaN</td>\n",
       "      <td>58763373</td>\n",
       "      <td>$53285051.00</td>\n",
       "      <td>$2156855.00</td>\n",
       "      <td>DSF: 0000798209</td>\n",
       "    </tr>\n",
       "  </tbody>\n",
       "</table>\n",
       "</div>"
      ],
      "text/plain": [
       "      Project Geographic District  Project Building Identifier  \\\n",
       "4157                            24                        Q247   \n",
       "1033                            15                        K338   \n",
       "5569                            27                        Q066   \n",
       "3769                            30                        Q292   \n",
       "6480                            28                        Q144   \n",
       "\n",
       "           Project School Name Project Type     Project Description  \\\n",
       "4157         P.S. 128 - QUEENS  SCA Capacity               ADDITION   \n",
       "1033  P.S./I.S. 338 - BROOKLYN  SCA Capacity  NEW SCHOOL/DEMOLITION   \n",
       "5569          P.S. 66 - QUEENS  SCA Capacity               ADDITION   \n",
       "3769          P.S. 92 - QUEENS  SCA Capacity       ADDITION/WINDOWS   \n",
       "6480         P.S. 144 - QUEENS  SCA Capacity               ADDITION   \n",
       "\n",
       "     Project Phase Name Project Status Name Project Phase Actual Start Date  \\\n",
       "4157       Construction         In-Progress                      07/17/2017   \n",
       "1033         CM,Art,F&E         In-Progress                      06/23/2014   \n",
       "5569       Construction         In-Progress                      06/21/2017   \n",
       "3769       Construction         In-Progress                      08/13/2014   \n",
       "6480       Construction         In-Progress                      07/13/2017   \n",
       "\n",
       "     Project Phase Planned End Date Project Phase Actual End Date  \\\n",
       "4157                     11/03/2019                           NaN   \n",
       "1033                     03/08/2017                           NaN   \n",
       "5569                     08/20/2020                           NaN   \n",
       "3769                     05/08/2017                           NaN   \n",
       "6480                     07/01/2020                           NaN   \n",
       "\n",
       "     Project Budget Amount  \\\n",
       "4157              35703162   \n",
       "1033              10121335   \n",
       "5569              31121781   \n",
       "3769              52303500   \n",
       "6480              58763373   \n",
       "\n",
       "     Final Estimate of Actual Costs Through End of Phase Amount  \\\n",
       "4157                                       $32807349.00           \n",
       "1033                                        $8596661.00           \n",
       "5569                                       $28209948.00           \n",
       "3769                                       $49688287.00           \n",
       "6480                                       $53285051.00           \n",
       "\n",
       "     Total Phase Actual Spending Amount                DSF Number(s)  \n",
       "4157                        $1614843.00              DSF: 0000821576  \n",
       "1033                        $7673583.00              DSF: 0000425868  \n",
       "5569                        $1357797.00              DSF: 0000801039  \n",
       "3769                       $47172573.00  DSF: 0000745712, 0000752430  \n",
       "6480                        $2156855.00              DSF: 0000798209  "
      ]
     },
     "execution_count": 55,
     "metadata": {},
     "output_type": "execute_result"
    }
   ],
   "source": [
    "budgets.sample(5)"
   ]
  },
  {
   "cell_type": "code",
   "execution_count": 71,
   "metadata": {
    "collapsed": false
   },
   "outputs": [
    {
     "data": {
      "text/plain": [
       "Project Geographic District                                    int64\n",
       "Project Building Identifier                                   object\n",
       "Project School Name                                           object\n",
       "Project Type                                                  object\n",
       "Project Description                                           object\n",
       "Project Phase Name                                            object\n",
       "Project Status Name                                           object\n",
       "Project Phase Actual Start Date                               object\n",
       "Project Phase Planned End Date                                object\n",
       "Project Phase Actual End Date                                 object\n",
       "Project Budget Amount                                         object\n",
       "Final Estimate of Actual Costs Through End of Phase Amount    object\n",
       "Total Phase Actual Spending Amount                            object\n",
       "DSF Number(s)                                                 object\n",
       "dtype: object"
      ]
     },
     "execution_count": 71,
     "metadata": {},
     "output_type": "execute_result"
    }
   ],
   "source": [
    "budgets.dtypes"
   ]
  },
  {
   "cell_type": "code",
   "execution_count": 65,
   "metadata": {
    "collapsed": false
   },
   "outputs": [],
   "source": [
    "b = []\n",
    "\n",
    "# Create a new row per unique DSF, even if a row has more then 1\n",
    "for index, row in budgets.iterrows(): \n",
    "    for dsf in re.findall('(\\d+)', row['DSF Number(s)']):\n",
    "        b.append([\n",
    "                  \"DSF%s\"%(dsf),\n",
    "                  row['Project Building Identifier'],\n",
    "                  row['Project School Name'],\n",
    "                  row['Project Phase Actual Start Date'],\n",
    "                  row['Project Phase Planned End Date']\n",
    "                 ])\n",
    "        \n",
    "budgetsClean = pd.DataFrame(data=b, columns=['dsf', 'bldg_id', 'name', 'start_date', 'planned_end_date'])"
   ]
  },
  {
   "cell_type": "code",
   "execution_count": 101,
   "metadata": {
    "collapsed": false
   },
   "outputs": [],
   "source": [
    "budgetsClean = budgetsClean.drop_duplicates(subset='dsf')"
   ]
  },
  {
   "cell_type": "code",
   "execution_count": 5,
   "metadata": {
    "collapsed": true
   },
   "outputs": [],
   "source": [
    "# Data from: https://data.cityofnewyork.us/Education/Capacity-Projects-by-schools/a94k-kjys\n",
    "# As of: 03/21/2018\n",
    "\n",
    "projects = pd.read_csv('data/Capacity_Projects__by_schools.csv')"
   ]
  },
  {
   "cell_type": "code",
   "execution_count": 79,
   "metadata": {
    "collapsed": false
   },
   "outputs": [
    {
     "data": {
      "text/plain": [
       "Project #            object\n",
       "Forecast Capacity     int64\n",
       "Actual /Est.Compl    object\n",
       "dtype: object"
      ]
     },
     "execution_count": 79,
     "metadata": {},
     "output_type": "execute_result"
    }
   ],
   "source": [
    "projects.dtypes"
   ]
  },
  {
   "cell_type": "code",
   "execution_count": 80,
   "metadata": {
    "collapsed": false
   },
   "outputs": [],
   "source": [
    "projects = pd.DataFrame(\n",
    "                        data=projects.ix[:, ['Project #', 'Forecast Capacity', 'Actual /Est.Compl']].values,\n",
    "                        columns=['dsf', 'capacity', 'est_completion']\n",
    "                       )"
   ]
  },
  {
   "cell_type": "code",
   "execution_count": 107,
   "metadata": {
    "collapsed": false
   },
   "outputs": [],
   "source": [
    "projects = projects.drop_duplicates(subset='dsf')"
   ]
  },
  {
   "cell_type": "code",
   "execution_count": 84,
   "metadata": {
    "collapsed": true
   },
   "outputs": [],
   "source": [
    "# Data from: https://data.cityofnewyork.us/Housing-Development/Active-Projects-Under-Construction/8586-3zfm\n",
    "# As of: 02/22/2018\n",
    "\n",
    "locations = pd.read_csv('data/Active_Projects_Under_Construction.csv')"
   ]
  },
  {
   "cell_type": "code",
   "execution_count": 93,
   "metadata": {
    "collapsed": false
   },
   "outputs": [],
   "source": [
    "locations = pd.DataFrame(\n",
    "                         data=locations.ix[:, ['Building ID', 'Latitude', 'Longitude', 'BBL']].values,\n",
    "                         columns=['bldg_id', 'lat', 'lng', 'bbl']\n",
    "                        )"
   ]
  },
  {
   "cell_type": "code",
   "execution_count": 117,
   "metadata": {
    "collapsed": false
   },
   "outputs": [],
   "source": [
    "locations = locations.drop_duplicates(subset=['bldg_id']).dropna(subset=['bbl'])"
   ]
  },
  {
   "cell_type": "code",
   "execution_count": 120,
   "metadata": {
    "collapsed": false
   },
   "outputs": [],
   "source": [
    "df = budgetsClean.merge(projects, on='dsf', how='inner').merge(locations, on='bldg_id', how='inner')"
   ]
  },
  {
   "cell_type": "code",
   "execution_count": 121,
   "metadata": {
    "collapsed": false
   },
   "outputs": [
    {
     "data": {
      "text/html": [
       "<div>\n",
       "<table border=\"1\" class=\"dataframe\">\n",
       "  <thead>\n",
       "    <tr style=\"text-align: right;\">\n",
       "      <th></th>\n",
       "      <th>dsf</th>\n",
       "      <th>bldg_id</th>\n",
       "      <th>name</th>\n",
       "      <th>start_date</th>\n",
       "      <th>planned_end_date</th>\n",
       "      <th>capacity</th>\n",
       "      <th>est_completion</th>\n",
       "      <th>lat</th>\n",
       "      <th>lng</th>\n",
       "      <th>bbl</th>\n",
       "    </tr>\n",
       "  </thead>\n",
       "  <tbody>\n",
       "    <tr>\n",
       "      <th>0</th>\n",
       "      <td>DSF0000798178</td>\n",
       "      <td>X097</td>\n",
       "      <td>P.S. 97 - BRONX</td>\n",
       "      <td>07/31/2017</td>\n",
       "      <td>02/12/2018</td>\n",
       "      <td>548</td>\n",
       "      <td>Apr-21</td>\n",
       "      <td>40.8628</td>\n",
       "      <td>-73.8468</td>\n",
       "      <td>2.04474e+09</td>\n",
       "    </tr>\n",
       "    <tr>\n",
       "      <th>1</th>\n",
       "      <td>DSF0000730952</td>\n",
       "      <td>M342</td>\n",
       "      <td>THE RIVERSIDE SCHOOL - M</td>\n",
       "      <td>06/17/2016</td>\n",
       "      <td>09/01/2017</td>\n",
       "      <td>692</td>\n",
       "      <td>Sep-17</td>\n",
       "      <td>40.7725</td>\n",
       "      <td>-73.9898</td>\n",
       "      <td>1.01172e+09</td>\n",
       "    </tr>\n",
       "    <tr>\n",
       "      <th>2</th>\n",
       "      <td>DSF0000798185</td>\n",
       "      <td>K032</td>\n",
       "      <td>P.S. 32 - BROOKLYN</td>\n",
       "      <td>07/12/2017</td>\n",
       "      <td>07/10/2021</td>\n",
       "      <td>436</td>\n",
       "      <td>Jul-20</td>\n",
       "      <td>40.6804</td>\n",
       "      <td>-73.9919</td>\n",
       "      <td>3.00437e+09</td>\n",
       "    </tr>\n",
       "    <tr>\n",
       "      <th>3</th>\n",
       "      <td>DSF0000798182</td>\n",
       "      <td>K557</td>\n",
       "      <td>P.S. @ 4302 4TH AVE - BROOKLYN</td>\n",
       "      <td>11/17/2017</td>\n",
       "      <td>06/12/2018</td>\n",
       "      <td>332</td>\n",
       "      <td>Jun-22</td>\n",
       "      <td>40.6503</td>\n",
       "      <td>-74.0086</td>\n",
       "      <td>3.00728e+09</td>\n",
       "    </tr>\n",
       "    <tr>\n",
       "      <th>4</th>\n",
       "      <td>DSF0000798233</td>\n",
       "      <td>X014</td>\n",
       "      <td>P.S. 14 - BRONX</td>\n",
       "      <td>07/07/2016</td>\n",
       "      <td>10/09/2019</td>\n",
       "      <td>344</td>\n",
       "      <td>Sep-18</td>\n",
       "      <td>40.8358</td>\n",
       "      <td>-73.8257</td>\n",
       "      <td>2.05313e+09</td>\n",
       "    </tr>\n",
       "    <tr>\n",
       "      <th>5</th>\n",
       "      <td>DSF0000798175</td>\n",
       "      <td>X046</td>\n",
       "      <td>P.S. 46 - BRONX</td>\n",
       "      <td>01/03/2017</td>\n",
       "      <td>06/25/2020</td>\n",
       "      <td>500</td>\n",
       "      <td>Jun-19</td>\n",
       "      <td>40.8668</td>\n",
       "      <td>-73.8907</td>\n",
       "      <td>2.03295e+09</td>\n",
       "    </tr>\n",
       "    <tr>\n",
       "      <th>6</th>\n",
       "      <td>DSF0000798235</td>\n",
       "      <td>M323</td>\n",
       "      <td>I.S. 323 - MANHATTAN</td>\n",
       "      <td>03/09/2015</td>\n",
       "      <td>06/15/2017</td>\n",
       "      <td>1016</td>\n",
       "      <td>May-18</td>\n",
       "      <td>40.731</td>\n",
       "      <td>-74.0072</td>\n",
       "      <td>1.00603e+09</td>\n",
       "    </tr>\n",
       "    <tr>\n",
       "      <th>7</th>\n",
       "      <td>DSF0000798210</td>\n",
       "      <td>Q398</td>\n",
       "      <td>P.S. 398 - QUEENS</td>\n",
       "      <td>03/06/2017</td>\n",
       "      <td>06/03/2019</td>\n",
       "      <td>476</td>\n",
       "      <td>Jun-19</td>\n",
       "      <td>40.7525</td>\n",
       "      <td>-73.8969</td>\n",
       "      <td>4.01242e+09</td>\n",
       "    </tr>\n",
       "    <tr>\n",
       "      <th>8</th>\n",
       "      <td>DSF0000798199</td>\n",
       "      <td>Q125</td>\n",
       "      <td>I.S. 125 - QUEENS</td>\n",
       "      <td>12/23/2015</td>\n",
       "      <td>07/22/2018</td>\n",
       "      <td>728</td>\n",
       "      <td>Sep-17</td>\n",
       "      <td>40.7411</td>\n",
       "      <td>-73.9189</td>\n",
       "      <td>4.02284e+09</td>\n",
       "    </tr>\n",
       "    <tr>\n",
       "      <th>9</th>\n",
       "      <td>DSF0000798195</td>\n",
       "      <td>Q143</td>\n",
       "      <td>P.S. 143 - QUEENS</td>\n",
       "      <td>07/18/2017</td>\n",
       "      <td>03/17/2021</td>\n",
       "      <td>980</td>\n",
       "      <td>Sep-20</td>\n",
       "      <td>40.7555</td>\n",
       "      <td>-73.8552</td>\n",
       "      <td>4.01756e+09</td>\n",
       "    </tr>\n",
       "    <tr>\n",
       "      <th>10</th>\n",
       "      <td>DSF0000821576</td>\n",
       "      <td>Q247</td>\n",
       "      <td>P.S. 128 - QUEENS</td>\n",
       "      <td>07/17/2017</td>\n",
       "      <td>11/03/2019</td>\n",
       "      <td>440</td>\n",
       "      <td>Jun-20</td>\n",
       "      <td>40.7153</td>\n",
       "      <td>-73.8862</td>\n",
       "      <td>4.03027e+09</td>\n",
       "    </tr>\n",
       "    <tr>\n",
       "      <th>11</th>\n",
       "      <td>DSF0000798203</td>\n",
       "      <td>Q024</td>\n",
       "      <td>P.S. 24 - QUEENS</td>\n",
       "      <td>07/26/2016</td>\n",
       "      <td>09/18/2019</td>\n",
       "      <td>600</td>\n",
       "      <td>Sep-18</td>\n",
       "      <td>40.7515</td>\n",
       "      <td>-73.8178</td>\n",
       "      <td>4.05201e+09</td>\n",
       "    </tr>\n",
       "    <tr>\n",
       "      <th>12</th>\n",
       "      <td>DSF0000798186</td>\n",
       "      <td>K746</td>\n",
       "      <td>P.S. 746 - BROOKLYN</td>\n",
       "      <td>06/22/2017</td>\n",
       "      <td>03/07/2020</td>\n",
       "      <td>976</td>\n",
       "      <td>Mar-20</td>\n",
       "      <td>40.6433</td>\n",
       "      <td>-74.021</td>\n",
       "      <td>3.00861e+09</td>\n",
       "    </tr>\n",
       "    <tr>\n",
       "      <th>13</th>\n",
       "      <td>DSF0000798192</td>\n",
       "      <td>K101</td>\n",
       "      <td>P.S. 101 - BROOKLYN</td>\n",
       "      <td>12/05/2016</td>\n",
       "      <td>08/15/2020</td>\n",
       "      <td>456</td>\n",
       "      <td>Jun-19</td>\n",
       "      <td>40.5979</td>\n",
       "      <td>-73.9917</td>\n",
       "      <td>3.06875e+09</td>\n",
       "    </tr>\n",
       "    <tr>\n",
       "      <th>14</th>\n",
       "      <td>DSF0000821799</td>\n",
       "      <td>Q434</td>\n",
       "      <td>FRANCIS LEWIS HS ANNEX - QUEEN</td>\n",
       "      <td>09/15/2017</td>\n",
       "      <td>04/11/2018</td>\n",
       "      <td>555</td>\n",
       "      <td>Jul-21</td>\n",
       "      <td>40.7407</td>\n",
       "      <td>-73.7928</td>\n",
       "      <td>4.06882e+09</td>\n",
       "    </tr>\n",
       "    <tr>\n",
       "      <th>15</th>\n",
       "      <td>DSF0000801039</td>\n",
       "      <td>Q066</td>\n",
       "      <td>P.S. 66 - QUEENS</td>\n",
       "      <td>06/21/2017</td>\n",
       "      <td>08/20/2020</td>\n",
       "      <td>124</td>\n",
       "      <td>Sep-19</td>\n",
       "      <td>40.6978</td>\n",
       "      <td>-73.8466</td>\n",
       "      <td>4.09183e+09</td>\n",
       "    </tr>\n",
       "    <tr>\n",
       "      <th>16</th>\n",
       "      <td>DSF0000798194</td>\n",
       "      <td>K254</td>\n",
       "      <td>P.S. 254 - BROOKLYN</td>\n",
       "      <td>08/29/2017</td>\n",
       "      <td>01/30/2018</td>\n",
       "      <td>416</td>\n",
       "      <td>Jun-21</td>\n",
       "      <td>40.5904</td>\n",
       "      <td>-73.9518</td>\n",
       "      <td>3.0742e+09</td>\n",
       "    </tr>\n",
       "    <tr>\n",
       "      <th>17</th>\n",
       "      <td>DSF0000798208</td>\n",
       "      <td>Q003</td>\n",
       "      <td>P.S. 303 - QUEENS</td>\n",
       "      <td>02/15/2017</td>\n",
       "      <td>08/02/2020</td>\n",
       "      <td>484</td>\n",
       "      <td>Sep-19</td>\n",
       "      <td>40.7251</td>\n",
       "      <td>-73.8451</td>\n",
       "      <td>4.02218e+09</td>\n",
       "    </tr>\n",
       "    <tr>\n",
       "      <th>18</th>\n",
       "      <td>DSF0000798209</td>\n",
       "      <td>Q144</td>\n",
       "      <td>P.S. 144 - QUEENS</td>\n",
       "      <td>07/13/2017</td>\n",
       "      <td>07/01/2020</td>\n",
       "      <td>590</td>\n",
       "      <td>Sep-19</td>\n",
       "      <td>40.715</td>\n",
       "      <td>-73.8534</td>\n",
       "      <td>4.03212e+09</td>\n",
       "    </tr>\n",
       "    <tr>\n",
       "      <th>19</th>\n",
       "      <td>DSF0000798568</td>\n",
       "      <td>Q019</td>\n",
       "      <td>P.S. 19 - QUEENS</td>\n",
       "      <td>07/18/2016</td>\n",
       "      <td>06/17/2019</td>\n",
       "      <td>640</td>\n",
       "      <td>Sep-18</td>\n",
       "      <td>40.7494</td>\n",
       "      <td>-73.8674</td>\n",
       "      <td>4.01607e+09</td>\n",
       "    </tr>\n",
       "    <tr>\n",
       "      <th>20</th>\n",
       "      <td>DSF0000798200</td>\n",
       "      <td>Q049</td>\n",
       "      <td>P.S. 49 - QUEENS</td>\n",
       "      <td>12/22/2015</td>\n",
       "      <td>12/18/2017</td>\n",
       "      <td>333</td>\n",
       "      <td>Sep-17</td>\n",
       "      <td>40.7199</td>\n",
       "      <td>-73.8751</td>\n",
       "      <td>4.0299e+09</td>\n",
       "    </tr>\n",
       "  </tbody>\n",
       "</table>\n",
       "</div>"
      ],
      "text/plain": [
       "              dsf bldg_id                            name  start_date  \\\n",
       "0   DSF0000798178    X097                 P.S. 97 - BRONX  07/31/2017   \n",
       "1   DSF0000730952    M342        THE RIVERSIDE SCHOOL - M  06/17/2016   \n",
       "2   DSF0000798185    K032              P.S. 32 - BROOKLYN  07/12/2017   \n",
       "3   DSF0000798182    K557  P.S. @ 4302 4TH AVE - BROOKLYN  11/17/2017   \n",
       "4   DSF0000798233    X014                 P.S. 14 - BRONX  07/07/2016   \n",
       "5   DSF0000798175    X046                 P.S. 46 - BRONX  01/03/2017   \n",
       "6   DSF0000798235    M323            I.S. 323 - MANHATTAN  03/09/2015   \n",
       "7   DSF0000798210    Q398               P.S. 398 - QUEENS  03/06/2017   \n",
       "8   DSF0000798199    Q125               I.S. 125 - QUEENS  12/23/2015   \n",
       "9   DSF0000798195    Q143               P.S. 143 - QUEENS  07/18/2017   \n",
       "10  DSF0000821576    Q247               P.S. 128 - QUEENS  07/17/2017   \n",
       "11  DSF0000798203    Q024                P.S. 24 - QUEENS  07/26/2016   \n",
       "12  DSF0000798186    K746             P.S. 746 - BROOKLYN  06/22/2017   \n",
       "13  DSF0000798192    K101             P.S. 101 - BROOKLYN  12/05/2016   \n",
       "14  DSF0000821799    Q434  FRANCIS LEWIS HS ANNEX - QUEEN  09/15/2017   \n",
       "15  DSF0000801039    Q066                P.S. 66 - QUEENS  06/21/2017   \n",
       "16  DSF0000798194    K254             P.S. 254 - BROOKLYN  08/29/2017   \n",
       "17  DSF0000798208    Q003               P.S. 303 - QUEENS  02/15/2017   \n",
       "18  DSF0000798209    Q144               P.S. 144 - QUEENS  07/13/2017   \n",
       "19  DSF0000798568    Q019                P.S. 19 - QUEENS  07/18/2016   \n",
       "20  DSF0000798200    Q049                P.S. 49 - QUEENS  12/22/2015   \n",
       "\n",
       "   planned_end_date capacity est_completion      lat      lng          bbl  \n",
       "0        02/12/2018      548         Apr-21  40.8628 -73.8468  2.04474e+09  \n",
       "1        09/01/2017      692         Sep-17  40.7725 -73.9898  1.01172e+09  \n",
       "2        07/10/2021      436         Jul-20  40.6804 -73.9919  3.00437e+09  \n",
       "3        06/12/2018      332         Jun-22  40.6503 -74.0086  3.00728e+09  \n",
       "4        10/09/2019      344         Sep-18  40.8358 -73.8257  2.05313e+09  \n",
       "5        06/25/2020      500         Jun-19  40.8668 -73.8907  2.03295e+09  \n",
       "6        06/15/2017     1016         May-18   40.731 -74.0072  1.00603e+09  \n",
       "7        06/03/2019      476         Jun-19  40.7525 -73.8969  4.01242e+09  \n",
       "8        07/22/2018      728         Sep-17  40.7411 -73.9189  4.02284e+09  \n",
       "9        03/17/2021      980         Sep-20  40.7555 -73.8552  4.01756e+09  \n",
       "10       11/03/2019      440         Jun-20  40.7153 -73.8862  4.03027e+09  \n",
       "11       09/18/2019      600         Sep-18  40.7515 -73.8178  4.05201e+09  \n",
       "12       03/07/2020      976         Mar-20  40.6433  -74.021  3.00861e+09  \n",
       "13       08/15/2020      456         Jun-19  40.5979 -73.9917  3.06875e+09  \n",
       "14       04/11/2018      555         Jul-21  40.7407 -73.7928  4.06882e+09  \n",
       "15       08/20/2020      124         Sep-19  40.6978 -73.8466  4.09183e+09  \n",
       "16       01/30/2018      416         Jun-21  40.5904 -73.9518   3.0742e+09  \n",
       "17       08/02/2020      484         Sep-19  40.7251 -73.8451  4.02218e+09  \n",
       "18       07/01/2020      590         Sep-19   40.715 -73.8534  4.03212e+09  \n",
       "19       06/17/2019      640         Sep-18  40.7494 -73.8674  4.01607e+09  \n",
       "20       12/18/2017      333         Sep-17  40.7199 -73.8751   4.0299e+09  "
      ]
     },
     "execution_count": 121,
     "metadata": {},
     "output_type": "execute_result"
    }
   ],
   "source": [
    "df"
   ]
  },
  {
   "cell_type": "code",
   "execution_count": 126,
   "metadata": {
    "collapsed": false
   },
   "outputs": [],
   "source": [
    "df['start_date'] = pd.to_datetime(df['start_date'])\n",
    "df['planned_end_date'] = pd.to_datetime(df['planned_end_date'])\n",
    "df['est_completion'] = pd.to_datetime(df['est_completion'], format=\"%b-%y\")"
   ]
  },
  {
   "cell_type": "code",
   "execution_count": 129,
   "metadata": {
    "collapsed": false
   },
   "outputs": [],
   "source": [
    "df.to_csv('export/sca-capital-projects.csv')"
   ]
  }
 ],
 "metadata": {
  "kernelspec": {
   "display_name": "Python 3",
   "language": "python",
   "name": "python3"
  },
  "language_info": {
   "codemirror_mode": {
    "name": "ipython",
    "version": 3
   },
   "file_extension": ".py",
   "mimetype": "text/x-python",
   "name": "python",
   "nbconvert_exporter": "python",
   "pygments_lexer": "ipython3",
   "version": "3.5.2"
  }
 },
 "nbformat": 4,
 "nbformat_minor": 2
}
