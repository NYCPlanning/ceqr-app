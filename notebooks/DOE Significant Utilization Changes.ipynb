{
 "cells": [
  {
   "cell_type": "code",
   "execution_count": 1,
   "metadata": {
    "collapsed": true,
    "deletable": true,
    "editable": true
   },
   "outputs": [],
   "source": [
    "import pandas as pd"
   ]
  },
  {
   "cell_type": "code",
   "execution_count": 2,
   "metadata": {
    "collapsed": false,
    "deletable": true,
    "editable": true
   },
   "outputs": [],
   "source": [
    "proposals = pd.read_excel('data/All Proposals Database_02.02.18.xlsx', header=1)"
   ]
  },
  {
   "cell_type": "code",
   "execution_count": 3,
   "metadata": {
    "collapsed": false,
    "deletable": true,
    "editable": true
   },
   "outputs": [
    {
     "data": {
      "text/plain": [
       "Index(['Proposal Code', 'DBN', 'School Name', 'Main Building ID',\n",
       "       'Proposal Title ', 'Borough', 'District', 'Proposal Type',\n",
       "       'Proposal Type II \\n(if applicable)', 'Existing Co-location?',\n",
       "       'New Co-location?', 'Temporary?', 'Partial?', 'TER?', 'Turnaround?',\n",
       "       'EIS Link', 'BUP Link', 'PEP Vote', 'Approved?',\n",
       "       'Implementation Year 1', 'Implementation Year 2', 'At-scale Year',\n",
       "       'At-scale Enrollment (school level)', 'At-scale Building Utilization',\n",
       "       '2011-2012 Enrollment', '2012-2013 Enrollment', '2013-2014 Enrollment',\n",
       "       '2014-2015 Enrollment', '2015-2016 Enrollment', '2016-2017 Enrollment',\n",
       "       '2017-2018 Enrollment', '2018-2019 Enrollment', '2019-2020 Enrollment',\n",
       "       '2020-2021 Enrollment', '2021-2022 Enrollment', '2022-2023 Enrollment',\n",
       "       '2023-2024 Enrollment', 'Notes', '2010 Lawsuit', 'Charter Siting'],\n",
       "      dtype='object')"
      ]
     },
     "execution_count": 3,
     "metadata": {},
     "output_type": "execute_result"
    }
   ],
   "source": [
    "proposals.columns"
   ]
  },
  {
   "cell_type": "code",
   "execution_count": 4,
   "metadata": {
    "collapsed": false,
    "deletable": true,
    "editable": true
   },
   "outputs": [],
   "source": [
    "proposals['at_scale_year'] = proposals['At-scale Year'].str.extract('(\\d+)-', expand=False).dropna().astype('int')\n",
    "\n",
    "proposals = proposals[(proposals['Approved?'] == 'Approved') & (proposals['at_scale_year'] > 2016)]"
   ]
  },
  {
   "cell_type": "code",
   "execution_count": 16,
   "metadata": {
    "collapsed": false,
    "deletable": true,
    "editable": true
   },
   "outputs": [],
   "source": [
    "p = []\n",
    "\n",
    "for index, row in proposals.iterrows(): \n",
    "    for bldg_id in row['Main Building ID'].split('/'):\n",
    "        p.append([\n",
    "                  row['Proposal Title '],\n",
    "                  row['At-scale Year'],\n",
    "#                 row['at_scale_year'],\n",
    "                  row['EIS Link'],\n",
    "                  row['BUP Link'],\n",
    "                  row['At-scale Enrollment (school level)'],\n",
    "                  bldg_id\n",
    "                 ])\n",
    "\n",
    "df = pd.DataFrame(\n",
    "    data=p,\n",
    "    columns=['title', 'at_scale_year', 'eis_url', 'bup_url', 'at_scale_enroll', 'bldg_id']\n",
    ")"
   ]
  },
  {
   "cell_type": "code",
   "execution_count": 17,
   "metadata": {
    "collapsed": false,
    "deletable": true,
    "editable": true
   },
   "outputs": [],
   "source": [
    "df = df.fillna(value='').replace('-', '')"
   ]
  },
  {
   "cell_type": "code",
   "execution_count": 18,
   "metadata": {
    "collapsed": false,
    "deletable": true,
    "editable": true
   },
   "outputs": [],
   "source": [
    "df.drop_duplicates(inplace=True)"
   ]
  },
  {
   "cell_type": "code",
   "execution_count": 19,
   "metadata": {
    "collapsed": false
   },
   "outputs": [
    {
     "data": {
      "text/html": [
       "<div>\n",
       "<table border=\"1\" class=\"dataframe\">\n",
       "  <thead>\n",
       "    <tr style=\"text-align: right;\">\n",
       "      <th></th>\n",
       "      <th>title</th>\n",
       "      <th>at_scale_year</th>\n",
       "      <th>eis_url</th>\n",
       "      <th>bup_url</th>\n",
       "      <th>at_scale_enroll</th>\n",
       "      <th>bldg_id</th>\n",
       "    </tr>\n",
       "  </thead>\n",
       "  <tbody>\n",
       "    <tr>\n",
       "      <th>554</th>\n",
       "      <td>The Proposed Opening and Co-location of Two Ne...</td>\n",
       "      <td>2017-18</td>\n",
       "      <td>http://schools.nyc.gov/NR/rdonlyres/BF115982-F...</td>\n",
       "      <td>http://schools.nyc.gov/NR/rdonlyres/BF115982-F...</td>\n",
       "      <td>710-890</td>\n",
       "      <td>K302</td>\n",
       "    </tr>\n",
       "    <tr>\n",
       "      <th>103</th>\n",
       "      <td>The Proposed Closure of Leadership Institute (...</td>\n",
       "      <td>2017-18</td>\n",
       "      <td>http://schools.nyc.gov/NR/rdonlyres/4D25FD09-A...</td>\n",
       "      <td>http://schools.nyc.gov/NR/rdonlyres/4D25FD09-A...</td>\n",
       "      <td>180-230</td>\n",
       "      <td>X004</td>\n",
       "    </tr>\n",
       "    <tr>\n",
       "      <th>582</th>\n",
       "      <td>The Proposed Opening and Co-location of A New ...</td>\n",
       "      <td>2018-19</td>\n",
       "      <td>http://schools.nyc.gov/NR/rdonlyres/BF115982-F...</td>\n",
       "      <td></td>\n",
       "      <td>415-485</td>\n",
       "      <td>X410</td>\n",
       "    </tr>\n",
       "    <tr>\n",
       "      <th>422</th>\n",
       "      <td>The Proposed Co-Location of New Public Element...</td>\n",
       "      <td>2017-18</td>\n",
       "      <td>http://schools.nyc.gov/NR/rdonlyres/7AC20E2C-5...</td>\n",
       "      <td>http://schools.nyc.gov/NR/rdonlyres/7AC20E2C-5...</td>\n",
       "      <td>795-825</td>\n",
       "      <td>K078</td>\n",
       "    </tr>\n",
       "    <tr>\n",
       "      <th>152</th>\n",
       "      <td>Revised Building Utilization Plan: Re-Siting a...</td>\n",
       "      <td>2017-18</td>\n",
       "      <td>-</td>\n",
       "      <td>http://schools.nyc.gov/NR/rdonlyres/3B8792DE-D...</td>\n",
       "      <td>430-470</td>\n",
       "      <td>M625</td>\n",
       "    </tr>\n",
       "  </tbody>\n",
       "</table>\n",
       "</div>"
      ],
      "text/plain": [
       "                                                 title at_scale_year  \\\n",
       "554  The Proposed Opening and Co-location of Two Ne...       2017-18   \n",
       "103  The Proposed Closure of Leadership Institute (...       2017-18   \n",
       "582  The Proposed Opening and Co-location of A New ...       2018-19   \n",
       "422  The Proposed Co-Location of New Public Element...       2017-18   \n",
       "152  Revised Building Utilization Plan: Re-Siting a...       2017-18   \n",
       "\n",
       "                                               eis_url  \\\n",
       "554  http://schools.nyc.gov/NR/rdonlyres/BF115982-F...   \n",
       "103  http://schools.nyc.gov/NR/rdonlyres/4D25FD09-A...   \n",
       "582  http://schools.nyc.gov/NR/rdonlyres/BF115982-F...   \n",
       "422  http://schools.nyc.gov/NR/rdonlyres/7AC20E2C-5...   \n",
       "152                                                  -   \n",
       "\n",
       "                                               bup_url at_scale_enroll bldg_id  \n",
       "554  http://schools.nyc.gov/NR/rdonlyres/BF115982-F...         710-890    K302  \n",
       "103  http://schools.nyc.gov/NR/rdonlyres/4D25FD09-A...         180-230    X004  \n",
       "582                                                            415-485    X410  \n",
       "422  http://schools.nyc.gov/NR/rdonlyres/7AC20E2C-5...         795-825    K078  \n",
       "152  http://schools.nyc.gov/NR/rdonlyres/3B8792DE-D...         430-470    M625  "
      ]
     },
     "execution_count": 19,
     "metadata": {},
     "output_type": "execute_result"
    }
   ],
   "source": [
    "df.sample(5)"
   ]
  },
  {
   "cell_type": "code",
   "execution_count": 20,
   "metadata": {
    "collapsed": true,
    "deletable": true,
    "editable": true
   },
   "outputs": [],
   "source": [
    "df.to_csv('export/doe_significant_utilization_changes_v022018.csv')"
   ]
  },
  {
   "cell_type": "code",
   "execution_count": null,
   "metadata": {
    "collapsed": true,
    "deletable": true,
    "editable": true
   },
   "outputs": [],
   "source": []
  }
 ],
 "metadata": {
  "kernelspec": {
   "display_name": "Python 3",
   "language": "python",
   "name": "python3"
  },
  "language_info": {
   "codemirror_mode": {
    "name": "ipython",
    "version": 3
   },
   "file_extension": ".py",
   "mimetype": "text/x-python",
   "name": "python",
   "nbconvert_exporter": "python",
   "pygments_lexer": "ipython3",
   "version": "3.5.2"
  }
 },
 "nbformat": 4,
 "nbformat_minor": 2
}
