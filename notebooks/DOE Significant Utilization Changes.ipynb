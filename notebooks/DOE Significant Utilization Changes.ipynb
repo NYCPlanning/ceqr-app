{
 "cells": [
  {
   "cell_type": "code",
   "execution_count": 1,
   "metadata": {
    "collapsed": true,
    "deletable": true,
    "editable": true
   },
   "outputs": [],
   "source": [
    "import pandas as pd"
   ]
  },
  {
   "cell_type": "code",
   "execution_count": 90,
   "metadata": {
    "collapsed": false,
    "deletable": true,
    "editable": true
   },
   "outputs": [],
   "source": [
    "proposals = pd.read_excel('data/All Proposals Database_02.02.18.xlsx', header=1)"
   ]
  },
  {
   "cell_type": "code",
   "execution_count": 91,
   "metadata": {
    "collapsed": false,
    "deletable": true,
    "editable": true
   },
   "outputs": [
    {
     "data": {
      "text/plain": [
       "Index(['Proposal Code', 'DBN', 'School Name', 'Main Building ID',\n",
       "       'Proposal Title ', 'Borough', 'District', 'Proposal Type',\n",
       "       'Proposal Type II \\n(if applicable)', 'Existing Co-location?',\n",
       "       'New Co-location?', 'Temporary?', 'Partial?', 'TER?', 'Turnaround?',\n",
       "       'EIS Link', 'BUP Link', 'PEP Vote', 'Approved?',\n",
       "       'Implementation Year 1', 'Implementation Year 2', 'At-scale Year',\n",
       "       'At-scale Enrollment (school level)', 'At-scale Building Utilization',\n",
       "       '2011-2012 Enrollment', '2012-2013 Enrollment', '2013-2014 Enrollment',\n",
       "       '2014-2015 Enrollment', '2015-2016 Enrollment', '2016-2017 Enrollment',\n",
       "       '2017-2018 Enrollment', '2018-2019 Enrollment', '2019-2020 Enrollment',\n",
       "       '2020-2021 Enrollment', '2021-2022 Enrollment', '2022-2023 Enrollment',\n",
       "       '2023-2024 Enrollment', 'Notes', '2010 Lawsuit', 'Charter Siting'],\n",
       "      dtype='object')"
      ]
     },
     "execution_count": 91,
     "metadata": {},
     "output_type": "execute_result"
    }
   ],
   "source": [
    "proposals.columns"
   ]
  },
  {
   "cell_type": "code",
   "execution_count": 92,
   "metadata": {
    "collapsed": false,
    "deletable": true,
    "editable": true
   },
   "outputs": [],
   "source": [
    "proposals['at_scale_year'] = proposals['At-scale Year'].str.extract('(\\d+)-', expand=False).dropna().astype('int')\n",
    "\n",
    "proposals = proposals[(proposals['Approved?'] == 'Approved') & (proposals['at_scale_year'] > 2016)]"
   ]
  },
  {
   "cell_type": "code",
   "execution_count": 93,
   "metadata": {
    "collapsed": false
   },
   "outputs": [],
   "source": [
    "p = []\n",
    "\n",
    "for index, row in proposals.iterrows(): \n",
    "    for bldg_id in row['Main Building ID'].split('/'):\n",
    "        p.append([\n",
    "                  row['Proposal Title '],\n",
    "                  row['at_scale_year'],\n",
    "                  row['EIS Link'],\n",
    "                  row['BUP Link'],\n",
    "                  bldg_id\n",
    "                 ])\n",
    "\n",
    "df = pd.DataFrame(\n",
    "    data=p,\n",
    "    columns=['title', 'at_scale_year', 'eis_url', 'bup_url', 'bldg_id']\n",
    ")"
   ]
  },
  {
   "cell_type": "code",
   "execution_count": 94,
   "metadata": {
    "collapsed": false,
    "deletable": true,
    "editable": true
   },
   "outputs": [],
   "source": [
    "df = df.fillna(value='').replace('-', '')"
   ]
  },
  {
   "cell_type": "code",
   "execution_count": 97,
   "metadata": {
    "collapsed": false,
    "deletable": true,
    "editable": true
   },
   "outputs": [],
   "source": [
    "df.drop_duplicates(inplace=True)"
   ]
  },
  {
   "cell_type": "code",
   "execution_count": 98,
   "metadata": {
    "collapsed": true,
    "deletable": true,
    "editable": true
   },
   "outputs": [],
   "source": [
    "df.to_csv('export/doe_significant_utilization_changes_v022018.csv')"
   ]
  },
  {
   "cell_type": "code",
   "execution_count": null,
   "metadata": {
    "collapsed": true,
    "deletable": true,
    "editable": true
   },
   "outputs": [],
   "source": []
  }
 ],
 "metadata": {
  "kernelspec": {
   "display_name": "Python 3",
   "language": "python",
   "name": "python3"
  },
  "language_info": {
   "codemirror_mode": {
    "name": "ipython",
    "version": 3
   },
   "file_extension": ".py",
   "mimetype": "text/x-python",
   "name": "python",
   "nbconvert_exporter": "python",
   "pygments_lexer": "ipython3",
   "version": "3.5.2"
  }
 },
 "nbformat": 4,
 "nbformat_minor": 2
}
